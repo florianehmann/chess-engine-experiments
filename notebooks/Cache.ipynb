{
 "cells": [
  {
   "cell_type": "code",
   "execution_count": 1,
   "metadata": {
    "metadata": {}
   },
   "outputs": [],
   "source": [
    "from dataclasses import dataclass\n",
    "from importlib import reload\n",
    "import sys\n",
    "\n",
    "from cachetools import LRUCache\n",
    "import chess\n",
    "\n",
    "sys.path.append('..')\n",
    "\n",
    "import chessengine\n",
    "chessengine = reload(chessengine)\n",
    "chessengine.evaluators = reload(chessengine.evaluators)\n",
    "chessengine.searchers = reload(chessengine.searchers)\n",
    "\n",
    "from chessengine.evaluators import SimpleEvaluator\n",
    "from chessengine.searchers import AlphaBetaSearcher, ChessCache\n",
    "\n",
    "SCHOLARS_MATE = \"r1bqkb1r/pppp1ppp/2n2n2/4p2Q/2B1P3/8/PPPP1PPP/RNB1K1NR w KQkq - 4 4\"\n",
    "CARO_KANN_ADVANCE = \"rnbqkbnr/pp3ppp/2p1p3/3pP3/3P4/8/PPP2PPP/RNBQKBNR w KQkq - 0 4\""
   ]
  },
  {
   "cell_type": "markdown",
   "metadata": {},
   "source": [
    "# Figure Out Cache Keys\n",
    "\n",
    "The key needs to contain the following information:\n",
    "1. board configuration, which piece is where\n",
    "2. whose turn it is\n",
    "3. castling rights\n",
    "4. en passant target square\n",
    "5. (potentially) halfmove clock for the fifty-move rule\n",
    "\n",
    "I guess for the start we can keep it simple and use only the first four items. The fifty-move rule probably triggers so rarely that it doesn't make sense to include it in caching."
   ]
  },
  {
   "cell_type": "code",
   "execution_count": 2,
   "metadata": {
    "metadata": {}
   },
   "outputs": [
    {
     "data": {
      "text/plain": [
       "-85"
      ]
     },
     "execution_count": 2,
     "metadata": {},
     "output_type": "execute_result"
    }
   ],
   "source": [
    "board = chess.Board(CARO_KANN_ADVANCE)\n",
    "evaluator = SimpleEvaluator()\n",
    "searcher = AlphaBetaSearcher(evaluator, depth=4, cachesize=128)\n",
    "\n",
    "searcher.search(board)\n"
   ]
  },
  {
   "cell_type": "code",
   "execution_count": 5,
   "metadata": {
    "metadata": {}
   },
   "outputs": [
    {
     "data": {
      "text/plain": [
       "36"
      ]
     },
     "execution_count": 5,
     "metadata": {},
     "output_type": "execute_result"
    }
   ],
   "source": [
    "searcher.cache.hits\n",
    "searcher.cache.misses"
   ]
  },
  {
   "cell_type": "code",
   "execution_count": null,
   "metadata": {},
   "outputs": [],
   "source": []
  }
 ],
 "metadata": {
  "kernelspec": {
   "display_name": "Python 3",
   "language": "python",
   "name": "python3"
  },
  "language_info": {
   "codemirror_mode": {
    "name": "ipython",
    "version": 3
   },
   "file_extension": ".py",
   "mimetype": "text/x-python",
   "name": "python",
   "nbconvert_exporter": "python",
   "pygments_lexer": "ipython3",
   "version": "3.12.3"
  }
 },
 "nbformat": 4,
 "nbformat_minor": 2
}
