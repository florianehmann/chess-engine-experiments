{
 "cells": [
  {
   "cell_type": "code",
   "execution_count": 1,
   "metadata": {},
   "outputs": [],
   "source": [
    "from math import log, sqrt\n",
    "import random\n",
    "from typing import Optional, Self\n",
    "\n",
    "import chess\n",
    "import chess.pgn\n",
    "from tqdm.notebook import tqdm"
   ]
  },
  {
   "cell_type": "code",
   "execution_count": 2,
   "metadata": {},
   "outputs": [],
   "source": [
    "class Node:\n",
    "\n",
    "    def __init__(self, board: chess.Board, parent: Optional[Self] = None):\n",
    "        self.board = board\n",
    "        self.parent = parent\n",
    "        self.average_evaluation: float = 0\n",
    "        self.visit_count: int = 0\n",
    "        self.unexplored_moves = list(board.legal_moves)\n",
    "        random.shuffle(self.unexplored_moves)\n",
    "        self.children: dict[chess.Move, Self] = {}\n",
    "    \n",
    "    def is_leaf(self) -> bool:\n",
    "        \"\"\"Checks is the node is a leaf of the search tree, i.e., has unexplored moves left to add to the tree.\"\"\"\n",
    "        return len(self.unexplored_moves) != 0\n",
    "    \n",
    "    def is_terminal(self) -> bool:\n",
    "        \"\"\"Checks if the node is terminal, i.e., is in a postion from which there are no legal moves.\"\"\"\n",
    "        return len(self.unexplored_moves) == 0 and len(self.children) == 0\n",
    "    \n",
    "    def __repr__(self):\n",
    "        move_string = str(chess.pgn.Game.from_board(self.board)).split(\"\\n\")[-1]\n",
    "        return f\"<Node V={self.visit_count} M={self.average_evaluation:.4f} moves=\\\"{move_string}\\\">\"\n",
    "\n",
    "\n",
    "UCT_EXPLORATION_CONSTANT = sqrt(2)\n",
    "def uct(node, parent) -> float:\n",
    "    if node.visit_count == 0:\n",
    "        return float(\"inf\")\n",
    "    return node.average_evaluation + UCT_EXPLORATION_CONSTANT * sqrt(log(parent.visit_count) / node.visit_count)\n",
    "\n",
    "\n",
    "def select(node) -> Node:\n",
    "    if node.is_leaf() or node.is_terminal():\n",
    "        return node\n",
    "    \n",
    "    child = max(node.children.values(), key=lambda c: uct(c, node))\n",
    "    assert child is not None, \"Failed to filter childless nodes in recursion anchor\"\n",
    "    \n",
    "    return select(child)\n",
    "\n",
    "\n",
    "def expand(node: Node) -> Node:\n",
    "    while len(node.unexplored_moves) > 0:\n",
    "        move = node.unexplored_moves.pop()\n",
    "        child_board = node.board.copy()\n",
    "        child_board.push(move)\n",
    "\n",
    "        child = Node(child_board)\n",
    "        child.parent = node\n",
    "        node.children[move] = child\n",
    "\n",
    "    return child\n",
    "\n",
    "payouts = {\n",
    "    None: 0.5,\n",
    "    chess.WHITE: 1,\n",
    "    chess.BLACK: 0,\n",
    "}\n",
    "def simulate(node) -> float:\n",
    "    board = node.board.copy()\n",
    "    outcome = board.outcome(claim_draw=True)\n",
    "    while outcome is None:\n",
    "        move = random.choice(list(board.legal_moves))\n",
    "        board.push(move)\n",
    "        outcome = board.outcome(claim_draw=True)\n",
    "    return payouts[outcome.winner]\n",
    "\n",
    "def backpropagate(node, payout):\n",
    "    node.average_evaluation = (node.average_evaluation * node.visit_count + payout) / (node.visit_count + 1)\n",
    "    node.visit_count += 1\n",
    "    if node.parent is not None:\n",
    "        backpropagate(node.parent, payout)"
   ]
  },
  {
   "cell_type": "code",
   "execution_count": 3,
   "metadata": {},
   "outputs": [
    {
     "data": {
      "application/vnd.jupyter.widget-view+json": {
       "model_id": "9e056dda00724f79b2cd776dd67779b7",
       "version_major": 2,
       "version_minor": 0
      },
      "text/plain": [
       "  0%|          | 0/500000 [00:00<?, ?it/s]"
      ]
     },
     "metadata": {},
     "output_type": "display_data"
    },
    {
     "ename": "KeyboardInterrupt",
     "evalue": "",
     "output_type": "error",
     "traceback": [
      "\u001b[0;31m---------------------------------------------------------------------------\u001b[0m",
      "\u001b[0;31mKeyboardInterrupt\u001b[0m                         Traceback (most recent call last)",
      "Cell \u001b[0;32mIn[3], line 8\u001b[0m\n\u001b[1;32m      6\u001b[0m \u001b[38;5;28;01mif\u001b[39;00m \u001b[38;5;28mlen\u001b[39m(node\u001b[38;5;241m.\u001b[39munexplored_moves) \u001b[38;5;241m>\u001b[39m \u001b[38;5;241m0\u001b[39m \u001b[38;5;129;01mand\u001b[39;00m node\u001b[38;5;241m.\u001b[39mvisit_count \u001b[38;5;241m>\u001b[39m \u001b[38;5;241m0\u001b[39m:\n\u001b[1;32m      7\u001b[0m     node \u001b[38;5;241m=\u001b[39m expand(node)\n\u001b[0;32m----> 8\u001b[0m payout \u001b[38;5;241m=\u001b[39m \u001b[43msimulate\u001b[49m\u001b[43m(\u001b[49m\u001b[43mnode\u001b[49m\u001b[43m)\u001b[49m\n\u001b[1;32m      9\u001b[0m backpropagate(node, payout)\n",
      "Cell \u001b[0;32mIn[2], line 65\u001b[0m, in \u001b[0;36msimulate\u001b[0;34m(node)\u001b[0m\n\u001b[1;32m     63\u001b[0m     move \u001b[38;5;241m=\u001b[39m random\u001b[38;5;241m.\u001b[39mchoice(\u001b[38;5;28mlist\u001b[39m(board\u001b[38;5;241m.\u001b[39mlegal_moves))\n\u001b[1;32m     64\u001b[0m     board\u001b[38;5;241m.\u001b[39mpush(move)\n\u001b[0;32m---> 65\u001b[0m     outcome \u001b[38;5;241m=\u001b[39m \u001b[43mboard\u001b[49m\u001b[38;5;241;43m.\u001b[39;49m\u001b[43moutcome\u001b[49m\u001b[43m(\u001b[49m\u001b[43mclaim_draw\u001b[49m\u001b[38;5;241;43m=\u001b[39;49m\u001b[38;5;28;43;01mTrue\u001b[39;49;00m\u001b[43m)\u001b[49m\n\u001b[1;32m     66\u001b[0m \u001b[38;5;28;01mreturn\u001b[39;00m payouts[outcome\u001b[38;5;241m.\u001b[39mwinner]\n",
      "File \u001b[0;32m~/.local/share/mambaforge/envs/chess/lib/python3.12/site-packages/chess/__init__.py:1960\u001b[0m, in \u001b[0;36mBoard.outcome\u001b[0;34m(self, claim_draw)\u001b[0m\n\u001b[1;32m   1958\u001b[0m \u001b[38;5;28;01mif\u001b[39;00m \u001b[38;5;28mself\u001b[39m\u001b[38;5;241m.\u001b[39mis_checkmate():\n\u001b[1;32m   1959\u001b[0m     \u001b[38;5;28;01mreturn\u001b[39;00m Outcome(Termination\u001b[38;5;241m.\u001b[39mCHECKMATE, \u001b[38;5;129;01mnot\u001b[39;00m \u001b[38;5;28mself\u001b[39m\u001b[38;5;241m.\u001b[39mturn)\n\u001b[0;32m-> 1960\u001b[0m \u001b[38;5;28;01mif\u001b[39;00m \u001b[38;5;28;43mself\u001b[39;49m\u001b[38;5;241;43m.\u001b[39;49m\u001b[43mis_insufficient_material\u001b[49m\u001b[43m(\u001b[49m\u001b[43m)\u001b[49m:\n\u001b[1;32m   1961\u001b[0m     \u001b[38;5;28;01mreturn\u001b[39;00m Outcome(Termination\u001b[38;5;241m.\u001b[39mINSUFFICIENT_MATERIAL, \u001b[38;5;28;01mNone\u001b[39;00m)\n\u001b[1;32m   1962\u001b[0m \u001b[38;5;28;01mif\u001b[39;00m \u001b[38;5;129;01mnot\u001b[39;00m \u001b[38;5;28many\u001b[39m(\u001b[38;5;28mself\u001b[39m\u001b[38;5;241m.\u001b[39mgenerate_legal_moves()):\n",
      "File \u001b[0;32m~/.local/share/mambaforge/envs/chess/lib/python3.12/site-packages/chess/__init__.py:2002\u001b[0m, in \u001b[0;36mBoard.is_insufficient_material\u001b[0;34m(self)\u001b[0m\n\u001b[1;32m   1997\u001b[0m \u001b[38;5;28;01mdef\u001b[39;00m \u001b[38;5;21mis_insufficient_material\u001b[39m(\u001b[38;5;28mself\u001b[39m) \u001b[38;5;241m-\u001b[39m\u001b[38;5;241m>\u001b[39m \u001b[38;5;28mbool\u001b[39m:\n\u001b[1;32m   1998\u001b[0m \u001b[38;5;250m    \u001b[39m\u001b[38;5;124;03m\"\"\"\u001b[39;00m\n\u001b[1;32m   1999\u001b[0m \u001b[38;5;124;03m    Checks if neither side has sufficient winning material\u001b[39;00m\n\u001b[1;32m   2000\u001b[0m \u001b[38;5;124;03m    (:func:`~chess.Board.has_insufficient_material()`).\u001b[39;00m\n\u001b[1;32m   2001\u001b[0m \u001b[38;5;124;03m    \"\"\"\u001b[39;00m\n\u001b[0;32m-> 2002\u001b[0m     \u001b[38;5;28;01mreturn\u001b[39;00m \u001b[38;5;28;43mall\u001b[39;49m\u001b[43m(\u001b[49m\u001b[38;5;28;43mself\u001b[39;49m\u001b[38;5;241;43m.\u001b[39;49m\u001b[43mhas_insufficient_material\u001b[49m\u001b[43m(\u001b[49m\u001b[43mcolor\u001b[49m\u001b[43m)\u001b[49m\u001b[43m \u001b[49m\u001b[38;5;28;43;01mfor\u001b[39;49;00m\u001b[43m \u001b[49m\u001b[43mcolor\u001b[49m\u001b[43m \u001b[49m\u001b[38;5;129;43;01min\u001b[39;49;00m\u001b[43m \u001b[49m\u001b[43mCOLORS\u001b[49m\u001b[43m)\u001b[49m\n",
      "File \u001b[0;32m~/.local/share/mambaforge/envs/chess/lib/python3.12/site-packages/chess/__init__.py:2002\u001b[0m, in \u001b[0;36m<genexpr>\u001b[0;34m(.0)\u001b[0m\n\u001b[1;32m   1997\u001b[0m \u001b[38;5;28;01mdef\u001b[39;00m \u001b[38;5;21mis_insufficient_material\u001b[39m(\u001b[38;5;28mself\u001b[39m) \u001b[38;5;241m-\u001b[39m\u001b[38;5;241m>\u001b[39m \u001b[38;5;28mbool\u001b[39m:\n\u001b[1;32m   1998\u001b[0m \u001b[38;5;250m    \u001b[39m\u001b[38;5;124;03m\"\"\"\u001b[39;00m\n\u001b[1;32m   1999\u001b[0m \u001b[38;5;124;03m    Checks if neither side has sufficient winning material\u001b[39;00m\n\u001b[1;32m   2000\u001b[0m \u001b[38;5;124;03m    (:func:`~chess.Board.has_insufficient_material()`).\u001b[39;00m\n\u001b[1;32m   2001\u001b[0m \u001b[38;5;124;03m    \"\"\"\u001b[39;00m\n\u001b[0;32m-> 2002\u001b[0m     \u001b[38;5;28;01mreturn\u001b[39;00m \u001b[38;5;28mall\u001b[39m(\u001b[38;5;28;43mself\u001b[39;49m\u001b[38;5;241;43m.\u001b[39;49m\u001b[43mhas_insufficient_material\u001b[49m\u001b[43m(\u001b[49m\u001b[43mcolor\u001b[49m\u001b[43m)\u001b[49m \u001b[38;5;28;01mfor\u001b[39;00m color \u001b[38;5;129;01min\u001b[39;00m COLORS)\n",
      "File \u001b[0;32m~/.local/share/mambaforge/envs/chess/lib/python3.12/site-packages/chess/__init__.py:2004\u001b[0m, in \u001b[0;36mBoard.has_insufficient_material\u001b[0;34m(self, color)\u001b[0m\n\u001b[1;32m   1998\u001b[0m \u001b[38;5;250m    \u001b[39m\u001b[38;5;124;03m\"\"\"\u001b[39;00m\n\u001b[1;32m   1999\u001b[0m \u001b[38;5;124;03m    Checks if neither side has sufficient winning material\u001b[39;00m\n\u001b[1;32m   2000\u001b[0m \u001b[38;5;124;03m    (:func:`~chess.Board.has_insufficient_material()`).\u001b[39;00m\n\u001b[1;32m   2001\u001b[0m \u001b[38;5;124;03m    \"\"\"\u001b[39;00m\n\u001b[1;32m   2002\u001b[0m     \u001b[38;5;28;01mreturn\u001b[39;00m \u001b[38;5;28mall\u001b[39m(\u001b[38;5;28mself\u001b[39m\u001b[38;5;241m.\u001b[39mhas_insufficient_material(color) \u001b[38;5;28;01mfor\u001b[39;00m color \u001b[38;5;129;01min\u001b[39;00m COLORS)\n\u001b[0;32m-> 2004\u001b[0m \u001b[38;5;28;01mdef\u001b[39;00m \u001b[38;5;21mhas_insufficient_material\u001b[39m(\u001b[38;5;28mself\u001b[39m, color: Color) \u001b[38;5;241m-\u001b[39m\u001b[38;5;241m>\u001b[39m \u001b[38;5;28mbool\u001b[39m:\n\u001b[1;32m   2005\u001b[0m \u001b[38;5;250m    \u001b[39m\u001b[38;5;124;03m\"\"\"\u001b[39;00m\n\u001b[1;32m   2006\u001b[0m \u001b[38;5;124;03m    Checks if *color* has insufficient winning material.\u001b[39;00m\n\u001b[1;32m   2007\u001b[0m \n\u001b[0;32m   (...)\u001b[0m\n\u001b[1;32m   2015\u001b[0m \u001b[38;5;124;03m    though there is no possible winning line.\u001b[39;00m\n\u001b[1;32m   2016\u001b[0m \u001b[38;5;124;03m    \"\"\"\u001b[39;00m\n\u001b[1;32m   2017\u001b[0m     \u001b[38;5;28;01mif\u001b[39;00m \u001b[38;5;28mself\u001b[39m\u001b[38;5;241m.\u001b[39moccupied_co[color] \u001b[38;5;241m&\u001b[39m (\u001b[38;5;28mself\u001b[39m\u001b[38;5;241m.\u001b[39mpawns \u001b[38;5;241m|\u001b[39m \u001b[38;5;28mself\u001b[39m\u001b[38;5;241m.\u001b[39mrooks \u001b[38;5;241m|\u001b[39m \u001b[38;5;28mself\u001b[39m\u001b[38;5;241m.\u001b[39mqueens):\n",
      "\u001b[0;31mKeyboardInterrupt\u001b[0m: "
     ]
    }
   ],
   "source": [
    "if \"root\" not in dir():\n",
    "    root = Node(chess.Board())\n",
    "# root = Node(chess.Board(\"rnbqkbnr/p2p1ppp/1p6/2p1p2Q/2B1P3/8/PPPP1PPP/RNB1K1NR w KQkq - 0 1\"))\n",
    "for i in tqdm(range(1000)):\n",
    "    node = select(root)\n",
    "    if len(node.unexplored_moves) > 0 and node.visit_count > 0:\n",
    "        node = expand(node)\n",
    "    payout = simulate(node)\n",
    "    backpropagate(node, payout)"
   ]
  },
  {
   "cell_type": "code",
   "execution_count": 5,
   "metadata": {},
   "outputs": [
    {
     "name": "stdout",
     "output_type": "stream",
     "text": [
      "5.69% : 1. g3 b5 2. b4 e5 3. Bh3 *\n",
      "5.64% : 1. g4 f5 2. f3 h5 3. e3 *\n",
      "5.56% : 1. b4 b6 2. Nc3 Nc6 3. a3 *\n",
      "5.36% : 1. h4 f6 2. Nh3 Na6 3. Ng5 *\n",
      "5.17% : 1. b3 Nc6 2. Bb2 f5 3. e4 *\n",
      "5.16% : 1. e4 f6 2. a3 g5 3. Ra2 *\n",
      "5.16% : 1. a3 d5 2. Nh3 a5 3. Ng1 *\n",
      "5.13% : 1. a4 d6 2. h4 g6 3. g4 *\n",
      "5.12% : 1. h3 Nh6 2. Nc3 g5 3. a3 *\n",
      "5.06% : 1. f3 f6 2. Nh3 a6 3. Nc3 *\n",
      "4.97% : 1. Nh3 g5 2. e4 f6 3. Na3 *\n",
      "4.96% : 1. Nf3 Nh6 2. Ng5 Na6 3. Nxf7 *\n",
      "4.80% : 1. d3 e6 2. Nh3 Ne7 3. Bh6 *\n",
      "4.79% : 1. Nc3 b5 2. Nh3 f5 3. Ng5 *\n",
      "4.76% : 1. Na3 c6 2. e4 h5 3. h4 *\n",
      "4.74% : 1. c3 f6 2. g4 a5 3. c4 *\n",
      "4.73% : 1. c4 d6 2. h4 Nh6 3. d3 *\n",
      "4.54% : 1. d4 b5 2. d5 g5 3. Na3 *\n",
      "4.41% : 1. e3 e6 2. Qe2 Qf6 3. Qc4 *\n",
      "4.24% : 1. f4 g5 2. Nf3 g4 3. c3 *\n"
     ]
    }
   ],
   "source": [
    "sorted_openings = sorted(root.children.items(), key=lambda t: t[1].visit_count, reverse=True)\n",
    "total_visits = sum(child.visit_count for child in root.children.values())\n",
    "for move, child in sorted_openings:\n",
    "    node = child\n",
    "    while len(node.children) > 0:\n",
    "        node = max(node.children.values(), key=lambda n: n.visit_count)\n",
    "    move_string = str(chess.pgn.Game.from_board(node.board)).split(\"\\n\")[-1]\n",
    "    print(f\"{child.visit_count / total_visits * 100 :.2f}% : {move_string}\")"
   ]
  },
  {
   "cell_type": "code",
   "execution_count": 6,
   "metadata": {},
   "outputs": [
    {
     "name": "stdout",
     "output_type": "stream",
     "text": [
      "   g3 average = +0.5016 UCT=0.5370721727002977\n",
      "   g4 average = +0.5015 UCT=0.5370727198725749\n",
      "   b4 average = +0.5012 UCT=0.5370848588867382\n",
      "   h4 average = +0.5005 UCT=0.5370709539326483\n",
      "   b3 average = +0.4999 UCT=0.5370675362803221\n",
      "   e4 average = +0.4998 UCT=0.53708546515187\n",
      "   a3 average = +0.4998 UCT=0.5370633400336096\n",
      "   a4 average = +0.4997 UCT=0.5370699089849229\n",
      "   h3 average = +0.4997 UCT=0.5370847908278736\n",
      "   f3 average = +0.4995 UCT=0.5370654438104929\n",
      "  Nh3 average = +0.4991 UCT=0.537067517654189\n",
      "  Nf3 average = +0.4991 UCT=0.5370801247682528\n",
      "   d3 average = +0.4985 UCT=0.5370773932404613\n",
      "  Nc3 average = +0.4984 UCT=0.5370565066494449\n",
      "  Na3 average = +0.4983 UCT=0.5370617619009908\n",
      "   c3 average = +0.4982 UCT=0.5370576351519295\n",
      "   c4 average = +0.4982 UCT=0.5370795133184217\n",
      "   d4 average = +0.4974 UCT=0.5370845910117067\n",
      "   e3 average = +0.4968 UCT=0.537072562426989\n",
      "   f4 average = +0.4960 UCT=0.5370852575489803\n"
     ]
    }
   ],
   "source": [
    "for move, child in sorted(root.children.items(), key=lambda t: t[1].visit_count, reverse=True):\n",
    "    print(f\"{root.board.san(move):>5} average = {child.average_evaluation:+.4f} UCT={uct(child, child.parent)}\")"
   ]
  },
  {
   "cell_type": "code",
   "execution_count": null,
   "metadata": {},
   "outputs": [],
   "source": [
    "import matplotlib.pyplot as plt\n",
    "import numpy as np"
   ]
  },
  {
   "cell_type": "code",
   "execution_count": null,
   "metadata": {},
   "outputs": [
    {
     "name": "stderr",
     "output_type": "stream",
     "text": [
      "/tmp/ipykernel_120504/2160802804.py:2: RuntimeWarning: invalid value encountered in divide\n",
      "  plt.plot(np.sqrt(np.log(v + 1) / v))\n"
     ]
    },
    {
     "data": {
      "text/plain": [
       "[<matplotlib.lines.Line2D at 0x7d5cc4843680>]"
      ]
     },
     "execution_count": 7,
     "metadata": {},
     "output_type": "execute_result"
    },
    {
     "data": {
      "image/png": "[encoded data removed]",
      "text/plain": [
       "<Figure size 640x480 with 1 Axes>"
      ]
     },
     "metadata": {},
     "output_type": "display_data"
    }
   ],
   "source": [
    "v = np.linspace(0, 100)\n",
    "plt.plot(np.sqrt(np.log(v + 1) / v))"
   ]
  },
  {
   "cell_type": "code",
   "execution_count": null,
   "metadata": {},
   "outputs": [],
   "source": []
  }
 ],
 "metadata": {
  "kernelspec": {
   "display_name": "chess",
   "language": "python",
   "name": "python3"
  },
  "language_info": {
   "codemirror_mode": {
    "name": "ipython",
    "version": 3
   },
   "file_extension": ".py",
   "mimetype": "text/x-python",
   "name": "python",
   "nbconvert_exporter": "python",
   "pygments_lexer": "ipython3",
   "version": "3.12.3"
  }
 },
 "nbformat": 4,
 "nbformat_minor": 2
}
